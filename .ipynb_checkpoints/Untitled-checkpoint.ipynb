{
 "cells": [
  {
   "cell_type": "code",
   "execution_count": 1,
   "id": "22336e97",
   "metadata": {},
   "outputs": [],
   "source": [
    "import pandas as pd"
   ]
  },
  {
   "cell_type": "code",
   "execution_count": 18,
   "id": "8fd45bb0",
   "metadata": {},
   "outputs": [],
   "source": [
    "init_data = {\n",
    "                        'Temp (c)':32,\n",
    "                        'Time': '0'\n",
    "                        \n",
    "                    }"
   ]
  },
  {
   "cell_type": "code",
   "execution_count": 19,
   "id": "9acae174",
   "metadata": {},
   "outputs": [],
   "source": [
    "df = pd.DataFrame([init_data])"
   ]
  },
  {
   "cell_type": "code",
   "execution_count": 20,
   "id": "7faedda8",
   "metadata": {},
   "outputs": [
    {
     "data": {
      "text/html": [
       "<div>\n",
       "<style scoped>\n",
       "    .dataframe tbody tr th:only-of-type {\n",
       "        vertical-align: middle;\n",
       "    }\n",
       "\n",
       "    .dataframe tbody tr th {\n",
       "        vertical-align: top;\n",
       "    }\n",
       "\n",
       "    .dataframe thead th {\n",
       "        text-align: right;\n",
       "    }\n",
       "</style>\n",
       "<table border=\"1\" class=\"dataframe\">\n",
       "  <thead>\n",
       "    <tr style=\"text-align: right;\">\n",
       "      <th></th>\n",
       "      <th>Temp (c)</th>\n",
       "      <th>Time</th>\n",
       "    </tr>\n",
       "  </thead>\n",
       "  <tbody>\n",
       "    <tr>\n",
       "      <th>0</th>\n",
       "      <td>32</td>\n",
       "      <td>0</td>\n",
       "    </tr>\n",
       "  </tbody>\n",
       "</table>\n",
       "</div>"
      ],
      "text/plain": [
       "   Temp (c) Time\n",
       "0        32    0"
      ]
     },
     "execution_count": 20,
     "metadata": {},
     "output_type": "execute_result"
    }
   ],
   "source": [
    "df"
   ]
  },
  {
   "cell_type": "code",
   "execution_count": 21,
   "id": "59a7f7c9",
   "metadata": {},
   "outputs": [],
   "source": [
    "df.to_csv('sensor_data/data.csv',index=False)"
   ]
  },
  {
   "cell_type": "code",
   "execution_count": null,
   "id": "12075ca1",
   "metadata": {},
   "outputs": [],
   "source": [
    "import time\n",
    "from w1thermsensor import W1ThermSensor\n",
    "import requests\n",
    "\n",
    "import urllib\n",
    "\n",
    "\n",
    "\n",
    "ls = []\n",
    "\n",
    "\n",
    "sensor = W1ThermSensor()\n",
    "measure = True\n",
    "count = 0\n",
    "for x in range(2):\n",
    "    temp = sensor.get_temperature()\n",
    "    ls.append(temp)\n",
    "    count = count + 1\n",
    "    time.sleep(5)\n",
    "\n",
    "    x = requests.get('http://44.202.6.212:8090/dash', params={'temp': ls})\n",
    "    if x.status_code == 200:\n",
    "        print('request sent')\n",
    "    else:\n",
    "        print('request failed')\n"
   ]
  },
  {
   "cell_type": "code",
   "execution_count": null,
   "id": "9cb2094f",
   "metadata": {},
   "outputs": [],
   "source": [
    "from PIL import Image\n",
    "url = 'http://host:port/endpoint'\n",
    "\n",
    "img_PIL = Image.open(r'exampleImg.png')\n",
    "name_img= os.path.basename(path_img)\n",
    "files= {'image': (name_img,img,'multipart/form-data',{'Expires': '0'}) }\n",
    "requests.post('http://44.202.6.212:8090/dash',files=files)"
   ]
  }
 ],
 "metadata": {
  "kernelspec": {
   "display_name": "Python 3",
   "language": "python",
   "name": "python3"
  },
  "language_info": {
   "codemirror_mode": {
    "name": "ipython",
    "version": 3
   },
   "file_extension": ".py",
   "mimetype": "text/x-python",
   "name": "python",
   "nbconvert_exporter": "python",
   "pygments_lexer": "ipython3",
   "version": "3.6.9"
  }
 },
 "nbformat": 4,
 "nbformat_minor": 5
}
