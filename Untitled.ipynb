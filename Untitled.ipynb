{
 "cells": [
  {
   "cell_type": "code",
   "execution_count": 12,
   "id": "22336e97",
   "metadata": {},
   "outputs": [],
   "source": [
    "import pandas as pd\n",
    "from PIL import Image\n",
    "import os"
   ]
  },
  {
   "cell_type": "code",
   "execution_count": 13,
   "id": "bbe78be6",
   "metadata": {},
   "outputs": [],
   "source": [
    "os.chdir('/')"
   ]
  },
  {
   "cell_type": "code",
   "execution_count": 16,
   "id": "ef56d165",
   "metadata": {},
   "outputs": [
    {
     "data": {
      "text/plain": [
       "'/'"
      ]
     },
     "execution_count": 16,
     "metadata": {},
     "output_type": "execute_result"
    }
   ],
   "source": [
    "os.getcwd()"
   ]
  },
  {
   "cell_type": "code",
   "execution_count": 30,
   "id": "dbc4203e",
   "metadata": {},
   "outputs": [
    {
     "data": {
      "text/plain": [
       "['.ipynb_checkpoints',\n",
       " 'env',\n",
       " 'im-received.jpg',\n",
       " 'Untitled.ipynb',\n",
       " 'dashboard.py',\n",
       " 'images',\n",
       " 'templates',\n",
       " 'sensor_data']"
      ]
     },
     "execution_count": 30,
     "metadata": {},
     "output_type": "execute_result"
    }
   ],
   "source": [
    " os.listdir('/home/ubuntu/Farming')"
   ]
  },
  {
   "cell_type": "code",
   "execution_count": 29,
   "id": "5f2a1d0a",
   "metadata": {},
   "outputs": [
    {
     "ename": "UnidentifiedImageError",
     "evalue": "cannot identify image file '/home/ubuntu/Farming/im-received.jpg'",
     "output_type": "error",
     "traceback": [
      "\u001b[0;31m---------------------------------------------------------------------------\u001b[0m",
      "\u001b[0;31mUnidentifiedImageError\u001b[0m                    Traceback (most recent call last)",
      "\u001b[0;32m<ipython-input-29-ad66e63074bf>\u001b[0m in \u001b[0;36m<module>\u001b[0;34m\u001b[0m\n\u001b[0;32m----> 1\u001b[0;31m \u001b[0mImage\u001b[0m\u001b[0;34m.\u001b[0m\u001b[0mopen\u001b[0m\u001b[0;34m(\u001b[0m\u001b[0;34m'/home/ubuntu/Farming/im-received.jpg'\u001b[0m\u001b[0;34m)\u001b[0m\u001b[0;34m\u001b[0m\u001b[0;34m\u001b[0m\u001b[0m\n\u001b[0m",
      "\u001b[0;32m/usr/local/lib/python3.6/dist-packages/PIL/Image.py\u001b[0m in \u001b[0;36mopen\u001b[0;34m(fp, mode, formats)\u001b[0m\n\u001b[1;32m   3029\u001b[0m         \u001b[0mwarnings\u001b[0m\u001b[0;34m.\u001b[0m\u001b[0mwarn\u001b[0m\u001b[0;34m(\u001b[0m\u001b[0mmessage\u001b[0m\u001b[0;34m)\u001b[0m\u001b[0;34m\u001b[0m\u001b[0;34m\u001b[0m\u001b[0m\n\u001b[1;32m   3030\u001b[0m     raise UnidentifiedImageError(\n\u001b[0;32m-> 3031\u001b[0;31m         \u001b[0;34m\"cannot identify image file %r\"\u001b[0m \u001b[0;34m%\u001b[0m \u001b[0;34m(\u001b[0m\u001b[0mfilename\u001b[0m \u001b[0;32mif\u001b[0m \u001b[0mfilename\u001b[0m \u001b[0;32melse\u001b[0m \u001b[0mfp\u001b[0m\u001b[0;34m)\u001b[0m\u001b[0;34m\u001b[0m\u001b[0;34m\u001b[0m\u001b[0m\n\u001b[0m\u001b[1;32m   3032\u001b[0m     )\n\u001b[1;32m   3033\u001b[0m \u001b[0;34m\u001b[0m\u001b[0m\n",
      "\u001b[0;31mUnidentifiedImageError\u001b[0m: cannot identify image file '/home/ubuntu/Farming/im-received.jpg'"
     ]
    }
   ],
   "source": [
    "Image.open('/home/ubuntu/Farming/im-received.jpg')"
   ]
  },
  {
   "cell_type": "code",
   "execution_count": 7,
   "id": "8fd45bb0",
   "metadata": {},
   "outputs": [],
   "source": [
    "init_data = {\n",
    "                        'Sensor':'',\n",
    "                        'Result':32,\n",
    "                        'Time': '0'\n",
    "                        \n",
    "                    }"
   ]
  },
  {
   "cell_type": "code",
   "execution_count": 8,
   "id": "9acae174",
   "metadata": {},
   "outputs": [],
   "source": [
    "df = pd.DataFrame([init_data])"
   ]
  },
  {
   "cell_type": "code",
   "execution_count": 9,
   "id": "7faedda8",
   "metadata": {},
   "outputs": [
    {
     "data": {
      "text/html": [
       "<div>\n",
       "<style scoped>\n",
       "    .dataframe tbody tr th:only-of-type {\n",
       "        vertical-align: middle;\n",
       "    }\n",
       "\n",
       "    .dataframe tbody tr th {\n",
       "        vertical-align: top;\n",
       "    }\n",
       "\n",
       "    .dataframe thead th {\n",
       "        text-align: right;\n",
       "    }\n",
       "</style>\n",
       "<table border=\"1\" class=\"dataframe\">\n",
       "  <thead>\n",
       "    <tr style=\"text-align: right;\">\n",
       "      <th></th>\n",
       "      <th>Sensor</th>\n",
       "      <th>Result</th>\n",
       "      <th>Time</th>\n",
       "    </tr>\n",
       "  </thead>\n",
       "  <tbody>\n",
       "    <tr>\n",
       "      <th>0</th>\n",
       "      <td></td>\n",
       "      <td>32</td>\n",
       "      <td>0</td>\n",
       "    </tr>\n",
       "  </tbody>\n",
       "</table>\n",
       "</div>"
      ],
      "text/plain": [
       "  Sensor  Result Time\n",
       "0             32    0"
      ]
     },
     "execution_count": 9,
     "metadata": {},
     "output_type": "execute_result"
    }
   ],
   "source": [
    "df"
   ]
  },
  {
   "cell_type": "code",
   "execution_count": 10,
   "id": "59a7f7c9",
   "metadata": {},
   "outputs": [],
   "source": [
    "df.to_csv('sensor_data/data.csv',index=False)"
   ]
  },
  {
   "cell_type": "code",
   "execution_count": null,
   "id": "12075ca1",
   "metadata": {},
   "outputs": [],
   "source": [
    "import time\n",
    "from w1thermsensor import W1ThermSensor\n",
    "import requests\n",
    "\n",
    "import urllib\n",
    "\n",
    "\n",
    "\n",
    "ls = []\n",
    "\n",
    "\n",
    "sensor = W1ThermSensor()\n",
    "measure = True\n",
    "count = 0\n",
    "for x in range(2):\n",
    "    temp = sensor.get_temperature()\n",
    "    ls.append(temp)\n",
    "    count = count + 1\n",
    "    time.sleep(5)\n",
    "\n",
    "    x = requests.get('http://44.202.6.212:8090/dash', params={'temp': ls})\n",
    "    if x.status_code == 200:\n",
    "        print('request sent')\n",
    "    else:\n",
    "        print('request failed')\n",
    "import base64\n",
    "import json                    \n",
    "\n",
    "import requests\n",
    "\n",
    "api = 'http://localhost:8080/test'\n",
    "image_file = 'sample_image.png'\n",
    "\n",
    "with open(image_file, \"rb\") as f:\n",
    "    im_bytes = f.read()        \n",
    "im_b64 = base64.b64encode(im_bytes).decode(\"utf8\")\n",
    "\n",
    "headers = {'Content-type': 'application/json', 'Accept': 'text/plain'}\n",
    "  \n",
    "payload = json.dumps({\"image\": im_b64, \"other_key\": \"value\"})\n",
    "response = requests.post(api, data=payload, headers=headers)\n",
    "try:\n",
    "    data = response.json()     \n",
    "    print(data)                \n",
    "except requests.exceptions.RequestException:\n",
    "    print(response.text)"
   ]
  },
  {
   "cell_type": "code",
   "execution_count": null,
   "id": "9cb2094f",
   "metadata": {},
   "outputs": [],
   "source": [
    "from PIL import Image\n",
    "url = 'http://host:port/endpoint'\n",
    "\n",
    "img_PIL = Image.open(r'exampleImg.png')\n",
    "name_img= os.path.basename(path_img)\n",
    "files= {'image': (name_img,img,'multipart/form-data',{'Expires': '0'}) }\n",
    "requests.post('http://44.202.6.212:8090/dash',files=files)"
   ]
  },
  {
   "cell_type": "code",
   "execution_count": null,
   "id": "9aed0eac",
   "metadata": {},
   "outputs": [],
   "source": [
    "\n",
    "url = 'http://44.201.190.52:8080/dash'\n",
    "my_img = {'image': open(path_img, 'rb')}\n",
    "r = requests.post(url, files=my_img)"
   ]
  }
 ],
 "metadata": {
  "kernelspec": {
   "display_name": "Python 3",
   "language": "python",
   "name": "python3"
  },
  "language_info": {
   "codemirror_mode": {
    "name": "ipython",
    "version": 3
   },
   "file_extension": ".py",
   "mimetype": "text/x-python",
   "name": "python",
   "nbconvert_exporter": "python",
   "pygments_lexer": "ipython3",
   "version": "3.6.9"
  }
 },
 "nbformat": 4,
 "nbformat_minor": 5
}
