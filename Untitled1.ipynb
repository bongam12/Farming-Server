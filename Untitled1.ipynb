{
 "cells": [
  {
   "cell_type": "code",
   "execution_count": 6,
   "id": "cd0ef4c9",
   "metadata": {},
   "outputs": [],
   "source": [
    "import base64\n",
    "import json                    \n",
    "\n",
    "import requests"
   ]
  },
  {
   "cell_type": "code",
   "execution_count": 5,
   "id": "b2575c2f",
   "metadata": {},
   "outputs": [
    {
     "name": "stdout",
     "output_type": "stream",
     "text": [
      "Defaulting to user installation because normal site-packages is not writeable\n",
      "Looking in indexes: https://pypi.org/simple, https://pip.repos.neuron.amazonaws.com\n",
      "Collecting b64\n",
      "  Downloading b64-0.4.tar.gz (2.3 kB)\n",
      "  Preparing metadata (setup.py) ... \u001b[?25ldone\n",
      "\u001b[?25hRequirement already satisfied: requests in /usr/local/lib/python3.6/dist-packages (from b64) (2.27.1)\n",
      "Collecting bs4\n",
      "  Downloading bs4-0.0.1.tar.gz (1.1 kB)\n",
      "  Preparing metadata (setup.py) ... \u001b[?25ldone\n",
      "\u001b[?25hCollecting lxml\n",
      "  Downloading lxml-4.8.0-cp36-cp36m-manylinux_2_17_x86_64.manylinux2014_x86_64.manylinux_2_24_x86_64.whl (6.4 MB)\n",
      "     |████████████████████████████████| 6.4 MB 17.8 MB/s            \n",
      "\u001b[?25hCollecting cached_properties\n",
      "  Downloading cached_properties-0.7.4.tar.gz (2.1 kB)\n",
      "  Preparing metadata (setup.py) ... \u001b[?25ldone\n",
      "\u001b[?25hRequirement already satisfied: beautifulsoup4 in /home/ubuntu/.local/lib/python3.6/site-packages (from bs4->b64) (4.10.0)\n",
      "Requirement already satisfied: idna<4,>=2.5 in /usr/local/lib/python3.6/dist-packages (from requests->b64) (3.3)\n",
      "Requirement already satisfied: charset-normalizer~=2.0.0 in /usr/local/lib/python3.6/dist-packages (from requests->b64) (2.0.12)\n",
      "Requirement already satisfied: certifi>=2017.4.17 in /usr/local/lib/python3.6/dist-packages (from requests->b64) (2021.10.8)\n",
      "Requirement already satisfied: urllib3<1.27,>=1.21.1 in /usr/local/lib/python3.6/dist-packages (from requests->b64) (1.26.8)\n",
      "Requirement already satisfied: soupsieve>1.2 in /home/ubuntu/.local/lib/python3.6/site-packages (from beautifulsoup4->bs4->b64) (2.3.1)\n",
      "Building wheels for collected packages: b64, bs4, cached-properties\n",
      "  Building wheel for b64 (setup.py) ... \u001b[?25ldone\n",
      "\u001b[?25h  Created wheel for b64: filename=b64-0.4-py3-none-any.whl size=3037 sha256=35b1e068821dc1ce3f506f1bdfb853b11bd9e7e11c48cdde1ac5754cc3efd630\n",
      "  Stored in directory: /home/ubuntu/.cache/pip/wheels/d6/85/41/5c6121d8b644724700be565832d4bf44be1909589c95ff1590\n",
      "  Building wheel for bs4 (setup.py) ... \u001b[?25ldone\n",
      "\u001b[?25h  Created wheel for bs4: filename=bs4-0.0.1-py3-none-any.whl size=1272 sha256=9defc874246da2e86699cc2034e320a251d31aff89d37e1e3ebe70821fb7fe0c\n",
      "  Stored in directory: /home/ubuntu/.cache/pip/wheels/19/f5/6d/a97dd4f22376d4472d5f4c76c7646876052ff3166b3cf71050\n",
      "  Building wheel for cached-properties (setup.py) ... \u001b[?25ldone\n",
      "\u001b[?25h  Created wheel for cached-properties: filename=cached_properties-0.7.4-py3-none-any.whl size=2777 sha256=1cdadc4380e894e4125e87a3fd46447bc92ff183daae2c2d59d6d92287959429\n",
      "  Stored in directory: /home/ubuntu/.cache/pip/wheels/7e/ef/1e/63e186f58dc123c8aae5d585c3b8fdb2e516fbd306abab7e5d\n",
      "Successfully built b64 bs4 cached-properties\n",
      "Installing collected packages: lxml, cached-properties, bs4, b64\n",
      "Successfully installed b64-0.4 bs4-0.0.1 cached-properties-0.7.4 lxml-4.8.0\n"
     ]
    }
   ],
   "source": [
    "!pip3 install b64"
   ]
  },
  {
   "cell_type": "code",
   "execution_count": 16,
   "id": "13f9b4bc",
   "metadata": {},
   "outputs": [],
   "source": [
    "from base64 import b64encode\n",
    "from datetime import datetime"
   ]
  },
  {
   "cell_type": "code",
   "execution_count": 38,
   "id": "78bd0caf",
   "metadata": {},
   "outputs": [
    {
     "data": {
      "text/plain": [
       "'2022-03-17 00:29:27'"
      ]
     },
     "execution_count": 38,
     "metadata": {},
     "output_type": "execute_result"
    }
   ],
   "source": []
  },
  {
   "cell_type": "code",
   "execution_count": 39,
   "id": "3b918b44",
   "metadata": {},
   "outputs": [
    {
     "data": {
      "text/plain": [
       "'2022-03-17--00:47:33'"
      ]
     },
     "execution_count": 39,
     "metadata": {},
     "output_type": "execute_result"
    }
   ],
   "source": [
    "current_datetime = datetime.now()\n",
    "current_datetime.strftime(\"%Y-%m-%d--%H:%M:%S\")\n"
   ]
  },
  {
   "cell_type": "code",
   "execution_count": 9,
   "id": "0ed74648",
   "metadata": {},
   "outputs": [],
   "source": [
    "from base64 import b64encode\n",
    "from datetime import datetime\n",
    "import json                    \n",
    "import requests\n",
    "import gin\n",
    "\n",
    "@gin.configurable()\n",
    "def send_img(file_name):\n",
    "    current_datetime = datetime.now()\n",
    "    current_datetime.strftime(\"%Y-%m-%d %H:%M:%S\")\n",
    "\n",
    "\n",
    "    api = 'http://52.207.118.109:8080/images'\n",
    "    image_file = 'IMG_1167.jpg'\n",
    "\n",
    "\n",
    "    with open(image_file, \"rb\") as f:\n",
    "        im_bytes = f.read()        \n",
    "    im_b64 = b64encode(im_bytes).decode(\"utf8\")\n",
    "\n",
    "    headers = {'Content-type': 'application/json', 'Accept': 'text/plain'}\n",
    "\n",
    "    payload = json.dumps({\"image\": im_b64, \"sensor_type\": \"Temp\"})\n",
    "    response = requests.post(api, data=payload, headers=headers)\n",
    "    try:\n",
    "        data = response.json()     \n",
    "        return data               \n",
    "    except requests.exceptions.RequestException:\n",
    "        return response.text\n",
    "    \n",
    "gin.parse_config_file('config.gin')"
   ]
  },
  {
   "cell_type": "code",
   "execution_count": 15,
   "id": "7cc69aa0",
   "metadata": {},
   "outputs": [
    {
     "name": "stdout",
     "output_type": "stream",
     "text": [
      "{'msg': 'success', 'size': [1500, 2000]}\n"
     ]
    }
   ],
   "source": []
  },
  {
   "cell_type": "code",
   "execution_count": null,
   "id": "2c29c133",
   "metadata": {},
   "outputs": [],
   "source": []
  }
 ],
 "metadata": {
  "kernelspec": {
   "display_name": "Python 3",
   "language": "python",
   "name": "python3"
  },
  "language_info": {
   "codemirror_mode": {
    "name": "ipython",
    "version": 3
   },
   "file_extension": ".py",
   "mimetype": "text/x-python",
   "name": "python",
   "nbconvert_exporter": "python",
   "pygments_lexer": "ipython3",
   "version": "3.6.9"
  }
 },
 "nbformat": 4,
 "nbformat_minor": 5
}
